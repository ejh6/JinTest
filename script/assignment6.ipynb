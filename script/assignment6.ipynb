{
 "cells": [
  {
   "cell_type": "code",
   "execution_count": 1,
   "id": "b5b3d798-b6cb-4365-b80f-a0808a71b231",
   "metadata": {},
   "outputs": [],
   "source": [
    "import pandas as pd\n",
    "import numpy as np\n",
    "from datetime import date"
   ]
  },
  {
   "cell_type": "code",
   "execution_count": 2,
   "id": "3bdad36e-09c9-4689-8bd4-1eead385054f",
   "metadata": {},
   "outputs": [],
   "source": [
    "#github pathing \n",
    "\"\"\"\n",
    "dtravel = pd.read_csv(\"../data/travelq.csv\")\n",
    "otravel = pd.read_csv(\"../data/orgdetail.csv\")\n",
    "\"\"\"\n",
    "# Load datasets\n",
    "dtravel = pd.read_csv(\"travelq.csv\")\n",
    "otravel = pd.read_csv(\"orgdetail.csv\")"
   ]
  },
  {
   "cell_type": "code",
   "execution_count": 3,
   "id": "052e48b9-7c0d-4bd3-bf7c-2cc700d8546e",
   "metadata": {},
   "outputs": [],
   "source": [
    "# Basic Cleaning\n",
    "# Standardizing columns\n",
    "numeric_col = [\"airfare\", \"other_transport\", \"lodging\", \"meals\", \"other_expenses\", \"total\"]\n",
    "dtravel[numeric_col] = dtravel[numeric_col].apply(pd.to_numeric, errors='coerce').round(2)\n",
    "\n",
    "non_numeric_col = dtravel.select_dtypes(exclude=['number']).columns\n",
    "dtravel[non_numeric_col] = dtravel[non_numeric_col].astype(str)"
   ]
  },
  {
   "cell_type": "code",
   "execution_count": 4,
   "id": "d312d42d-2d7b-4e84-819d-9b748315eed5",
   "metadata": {},
   "outputs": [
    {
     "name": "stdout",
     "output_type": "stream",
     "text": [
      "Removed columns: disclosure_group, title_fr, purpose_fr, destination_fr, additional_comments_en, additional_comments_fr\n"
     ]
    }
   ],
   "source": [
    "# Remove unnecessary columns\n",
    "def remove_columns(dtravel, columns_to_remove):\n",
    "    dtravel = dtravel.drop(columns=columns_to_remove, errors='ignore')\n",
    "    print(f\"Removed columns: {', '.join(columns_to_remove)}\")\n",
    "    return dtravel\n",
    "\n",
    "columns_to_remove = [\n",
    "    'disclosure_group', 'title_fr', 'purpose_fr', 'destination_fr', \n",
    "    'additional_comments_en', 'additional_comments_fr'\n",
    "]\n",
    "dtravel = remove_columns(dtravel, columns_to_remove)"
   ]
  },
  {
   "cell_type": "code",
   "execution_count": 5,
   "id": "8f675254-fad8-4fd9-9352-fdaed2331880",
   "metadata": {},
   "outputs": [
    {
     "name": "stdout",
     "output_type": "stream",
     "text": [
      "Processed Outliers for airfare (Outliers replaced with NaN)\n",
      "Processed Outliers for other_transport (Outliers replaced with NaN)\n",
      "Processed Outliers for lodging (Outliers replaced with NaN)\n",
      "Processed Outliers for meals (Outliers replaced with NaN)\n",
      "Processed Outliers for other_expenses (Outliers replaced with NaN)\n",
      "Processed Outliers for total (Outliers replaced with NaN)\n"
     ]
    }
   ],
   "source": [
    "# Remove outliers using IQR method\n",
    "def remove_outliers(dtravel, numerical_columns):\n",
    "    for column in numerical_columns:\n",
    "        Q1 = dtravel[column].quantile(0.25)\n",
    "        Q3 = dtravel[column].quantile(0.75)\n",
    "        IQR = Q3 - Q1\n",
    "        lower_bound = Q1 - 1.5 * IQR\n",
    "        upper_bound = Q3 + 1.5 * IQR\n",
    "        \n",
    "        dtravel.loc[(dtravel[column] < lower_bound) | (dtravel[column] > upper_bound), column] = np.nan\n",
    "        print(f\"Processed Outliers for {column} (Outliers replaced with NaN)\")\n",
    "    \n",
    "    return dtravel \n",
    "\n",
    "numerical_columns = dtravel.select_dtypes(include=['number']).columns.tolist()\n",
    "dtravel = remove_outliers(dtravel, numerical_columns)\n"
   ]
  },
  {
   "cell_type": "code",
   "execution_count": 6,
   "id": "cb5375c7-dd96-4a86-9a1f-0de14767862c",
   "metadata": {},
   "outputs": [
    {
     "name": "stdout",
     "output_type": "stream",
     "text": [
      "Removed the french out of 'owner_org_title'\n"
     ]
    }
   ],
   "source": [
    "# Clean the owner_org_title column\n",
    "def clean_owner_org_title(dtravel):\n",
    "    dtravel['owner_org_title'] = dtravel['owner_org_title'].str.split(' \\\\| ').str[0]\n",
    "    return dtravel\n",
    "\n",
    "dtravel = clean_owner_org_title(dtravel)\n",
    "print(\"Removed the french out of 'owner_org_title'\")"
   ]
  },
  {
   "cell_type": "code",
   "execution_count": 7,
   "id": "37f9f0f1-ed2e-421c-98ea-0ef22fef3550",
   "metadata": {},
   "outputs": [],
   "source": [
    "# Merge datasets using a LEFT JOIN on 'owner_org_title' and 'owner_org'\n",
    "mmerge = dtravel.merge(otravel, on=[\"owner_org_title\", \"owner_org\"], how=\"left\")"
   ]
  },
  {
   "cell_type": "code",
   "execution_count": 8,
   "id": "70c09c83-25bb-4719-95b5-d515d1d5d858",
   "metadata": {},
   "outputs": [
    {
     "name": "stdout",
     "output_type": "stream",
     "text": [
      "Merged dataset saved as: merged_travel_data_2025-02-28.csv\n"
     ]
    }
   ],
   "source": [
    "# Save the merged dataset with today's date in the filename\n",
    "date_str = date.today().strftime(\"%Y-%m-%d\")\n",
    "merged_file_name = f\"merged_travel_data_{date_str}.csv\"\n",
    "mmerge.to_csv(merged_file_name, index=False)\n",
    "print(f\"Merged dataset saved as: {merged_file_name}\")"
   ]
  },
  {
   "cell_type": "markdown",
   "id": "73667721-380f-495b-a3b4-46131067c2d1",
   "metadata": {},
   "source": [
    "# Explanation of Variables\n",
    "- `dtravel`: The main dataset containing travel details.\n",
    "- `otravel`: The secondary dataset containing organization details.\n",
    "- `numeric_col`: List of columns that should be treated as numeric.\n",
    "- `non_numeric_col`: List of columns that should be treated as strings.\n",
    "- `columns_to_remove`: List of columns to be removed from the dataset.\n",
    "- `numerical_columns`: List of numeric columns for outlier detection.\n",
    "- `mmerge`: The merged dataset combining `dtravel` and `otravel`.\n",
    "\n",
    "# Explanation of Compound Key\n",
    "A compound key is a combination of multiple columns that together create a unique identifier for rows in a DataFrame. \n",
    "In this case, the compound key is created using 'owner_org_title' and 'owner_org' columns. \n",
    "This ensures that each row in the merged dataset is uniquely identified by the combination of these two columns.\n"
   ]
  },
  {
   "cell_type": "markdown",
   "id": "52d3727d-b5be-48d9-a0df-3b5616f4f4e3",
   "metadata": {},
   "source": [
    "# Explanation of Join vs Merge\n",
    "- **Join**: A join operation combines rows from two or more tables based on a related column between them. \n",
    "  It is typically used in SQL and can be thought of as a way to combine rows from different tables based on a condition.\n",
    "  \n",
    "- **Merge**: A merge operation in pandas is similar to a join but is more flexible. It allows for more complex combinations \n",
    "  of dataframes, including different types of joins (inner, outer, left, right). In this case, we used a LEFT JOIN to \n",
    "  ensure that all rows from the `dtravel` dataset are preserved, even if there are no matching rows in the `otravel` dataset.\n"
   ]
  },
  {
   "cell_type": "code",
   "execution_count": null,
   "id": "d58202f5-6bbe-484d-9093-30a06feb63c0",
   "metadata": {},
   "outputs": [],
   "source": []
  }
 ],
 "metadata": {
  "kernelspec": {
   "display_name": "Python [conda env:base] *",
   "language": "python",
   "name": "conda-base-py"
  },
  "language_info": {
   "codemirror_mode": {
    "name": "ipython",
    "version": 3
   },
   "file_extension": ".py",
   "mimetype": "text/x-python",
   "name": "python",
   "nbconvert_exporter": "python",
   "pygments_lexer": "ipython3",
   "version": "3.12.7"
  }
 },
 "nbformat": 4,
 "nbformat_minor": 5
}
